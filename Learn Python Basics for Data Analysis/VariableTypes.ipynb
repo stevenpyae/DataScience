{
 "cells": [
  {
   "cell_type": "markdown",
   "id": "6c4f9e1e-a1d1-4e20-b8b7-9e88cd962458",
   "metadata": {},
   "source": [
    "### Numbers"
   ]
  },
  {
   "cell_type": "code",
   "execution_count": 1,
   "id": "d8128dd9",
   "metadata": {},
   "outputs": [],
   "source": [
    "# Numbers\n",
    "account = 10"
   ]
  },
  {
   "cell_type": "code",
   "execution_count": 3,
   "id": "778a673c-65ee-4ebc-9cce-b544d79c0e95",
   "metadata": {},
   "outputs": [],
   "source": [
    "# Decimals/Float\n",
    "length = 1876.79\n",
    "width = 870.0\n"
   ]
  },
  {
   "cell_type": "code",
   "execution_count": 4,
   "id": "d21c0e92-ed49-4211-9ba2-8b2528ac3f26",
   "metadata": {},
   "outputs": [
    {
     "name": "stdout",
     "output_type": "stream",
     "text": [
      "2.5\n"
     ]
    }
   ],
   "source": [
    "# Mixing Int with Float \n",
    "a = 7.5\n",
    "b = 3\n",
    "c = a/b\n",
    "print(c)\n",
    "# this will print 2.5, which is a float"
   ]
  },
  {
   "cell_type": "code",
   "execution_count": 5,
   "id": "beb0f10b-5b76-4ce5-bdff-237cc0183d2d",
   "metadata": {},
   "outputs": [
    {
     "name": "stdout",
     "output_type": "stream",
     "text": [
      "2.0\n"
     ]
    }
   ],
   "source": [
    "a = 10\n",
    "b = 5\n",
    "c = a/b\n",
    "print(c)\n",
    "# it's a float\n"
   ]
  },
  {
   "cell_type": "code",
   "execution_count": 6,
   "id": "fe4dc553-683c-42d1-947b-cd8bd59f07f6",
   "metadata": {},
   "outputs": [
    {
     "name": "stdout",
     "output_type": "stream",
     "text": [
      "14\n"
     ]
    }
   ],
   "source": [
    "a = 14.0\n",
    "# a is a float\n",
    "a = int(a)\n",
    "print(a)\n",
    "# a is now an integer: it prints 14 and not 14.0"
   ]
  },
  {
   "cell_type": "markdown",
   "id": "92d9090e-5aab-4422-a41d-e4410da2dba7",
   "metadata": {},
   "source": [
    "# Exercise 1"
   ]
  },
  {
   "cell_type": "code",
   "execution_count": 7,
   "id": "457e915e-3ab9-4559-a9eb-66a5f6a954b1",
   "metadata": {},
   "outputs": [
    {
     "name": "stdout",
     "output_type": "stream",
     "text": [
      "75.0\n"
     ]
    }
   ],
   "source": [
    "savingsAccount = 10000\n",
    "rate = 0.75\n",
    "\n",
    "interest = savingsAccount * (rate/100)\n",
    "\n",
    "print(interest)\n",
    "# Convert Interest variable from float to integer"
   ]
  },
  {
   "cell_type": "code",
   "execution_count": 8,
   "id": "5abd9961-4322-420b-9aac-e36783d4644e",
   "metadata": {},
   "outputs": [
    {
     "name": "stdout",
     "output_type": "stream",
     "text": [
      "75\n"
     ]
    }
   ],
   "source": [
    "interest = int(interest)\n",
    "print(interest)"
   ]
  },
  {
   "cell_type": "markdown",
   "id": "1d4c32ca-e2c4-4444-87dc-7761548a161c",
   "metadata": {},
   "source": [
    "### String"
   ]
  },
  {
   "cell_type": "code",
   "execution_count": 10,
   "id": "b5f2a02d-ef0e-4c09-8e31-0c5ea402da47",
   "metadata": {},
   "outputs": [],
   "source": [
    "city = 'New York'\n",
    "film = 'taxi driver'\n",
    "emptyString = ''"
   ]
  },
  {
   "cell_type": "code",
   "execution_count": 13,
   "id": "092aceb4-17b8-4d67-81b2-343f1905d231",
   "metadata": {},
   "outputs": [
    {
     "name": "stdout",
     "output_type": "stream",
     "text": [
      "San FranciscoNew York\n",
      "My favorite cities are San Francisco and New York\n"
     ]
    }
   ],
   "source": [
    "# Assembly \n",
    "favoriteCityOne = \"San Francisco\"\n",
    "favoriteCityTwo = \"New York\"\n",
    "favorites = favoriteCityOne + favoriteCityTwo\n",
    "print(favorites) # => \"San FranciscoNew York\"\n",
    "\n",
    "\n",
    "favoriteCityOne = \"San Francisco\"\n",
    "favoriteCityTwo = \"New York\"\n",
    "favorites = \"My favorite cities are \" + favoriteCityOne + \" and \"+ favoriteCityTwo\n",
    "print(favorites) # -> \"My favorite cities are San Francisco and New York\""
   ]
  },
  {
   "cell_type": "code",
   "execution_count": 14,
   "id": "491d65fc-f189-49b5-be2f-36ae1ba39c30",
   "metadata": {},
   "outputs": [
    {
     "name": "stdout",
     "output_type": "stream",
     "text": [
      "I've been to Sydney 5 times \n"
     ]
    }
   ],
   "source": [
    "# Mix String and Integers by casting Integer to String\n",
    "city = \"Sydney\"\n",
    "numberTrips = 5\n",
    "history = \"I've been to \" + city + \" \" + str(numberTrips) + \" times \"\n",
    "print(history) # => \"I've been to Sydney 5 times\""
   ]
  }
 ],
 "metadata": {
  "kernelspec": {
   "display_name": "Python 3 (ipykernel)",
   "language": "python",
   "name": "python3"
  },
  "language_info": {
   "codemirror_mode": {
    "name": "ipython",
    "version": 3
   },
   "file_extension": ".py",
   "mimetype": "text/x-python",
   "name": "python",
   "nbconvert_exporter": "python",
   "pygments_lexer": "ipython3",
   "version": "3.9.13"
  }
 },
 "nbformat": 4,
 "nbformat_minor": 5
}
