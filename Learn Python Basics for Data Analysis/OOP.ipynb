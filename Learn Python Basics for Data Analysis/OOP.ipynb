{
 "cells": [
  {
   "cell_type": "markdown",
   "id": "2b0c60fa-e39d-4a07-b025-0a20b6302104",
   "metadata": {},
   "source": [
    "### Classes are used to create objects. Objects are tengible items in real life. \n",
    "##### Define a category of a car is a Class. Class is like a Template, require details, characteristics (Attributes), methods. Template is a plan.\n",
    "##### Use Class definition to create objects. To create objects, variables can be created.\n",
    "##### The variable is an instance of the class. \n",
    "##### We can define functions that are specific to a class, called methods."
   ]
  },
  {
   "cell_type": "code",
   "execution_count": 2,
   "id": "af6d4741-7998-4da4-84c6-0ee9e99c22dd",
   "metadata": {},
   "outputs": [],
   "source": [
    "var1 = 14\n",
    "var2 = 1031\n",
    "\n",
    "#Here we have two instances of int class, two objects with a single attribute: value. "
   ]
  },
  {
   "cell_type": "code",
   "execution_count": 4,
   "id": "e0ba2fb6-b1d9-483f-8577-c4a2a62f6339",
   "metadata": {},
   "outputs": [
    {
     "data": {
      "text/plain": [
       "'hello, world'"
      ]
     },
     "execution_count": 4,
     "metadata": {},
     "output_type": "execute_result"
    }
   ],
   "source": [
    "a = \"Hello, World\"\n",
    "a.lower()\n",
    "\n",
    "#Here we have an instance of STRING class, we can access it's methods by the . function"
   ]
  },
  {
   "cell_type": "code",
   "execution_count": 6,
   "id": "9074f7e2-21d0-4aef-a9e2-081bdeae42ac",
   "metadata": {},
   "outputs": [
    {
     "name": "stdout",
     "output_type": "stream",
     "text": [
      "HERE IS AN EXAMPLE OF A STRING\n",
      "Here is an example of a string\n",
      "here is an test of a STRING\n",
      "8\n",
      "-1\n"
     ]
    }
   ],
   "source": [
    "text = \"here is an EXAMPLE of a STRING\"\n",
    "a = text.upper()\n",
    "print(a)\n",
    "print(text.capitalize())\n",
    "print(text.replace('EXAMPLE', 'test'))\n",
    "print(text.find('an'))\n",
    "print(text.find('two'))"
   ]
  },
  {
   "cell_type": "markdown",
   "id": "32fbd545-1f55-45f4-9056-6502301951bb",
   "metadata": {},
   "source": [
    "# Exercise"
   ]
  },
  {
   "cell_type": "code",
   "execution_count": 8,
   "id": "bb1ad277-39d9-4984-8c96-b300542b65f5",
   "metadata": {},
   "outputs": [
    {
     "name": "stdout",
     "output_type": "stream",
     "text": [
      "i am excited!!\n",
      "I am calm!!\n"
     ]
    }
   ],
   "source": [
    "mySentence = 'I AM EXCITED!!'\n",
    "b = mySentence.lower()\n",
    "print(b)\n",
    "print(mySentence.replace('EXCITED', 'calm').lower().capitalize())"
   ]
  },
  {
   "cell_type": "markdown",
   "id": "afb9d67b-86ec-4ce0-b420-02e924eeacbd",
   "metadata": {},
   "source": [
    "A class is a construction plan for an object.\n",
    "\n",
    "A variable is an instance of a class, or an object.\n",
    "\n",
    "An object is defined by its attributes.\n",
    "\n",
    "All instances of a class have access to the same methods via the.  (dot) notation.\n",
    "\n",
    "A method, like a function, generally does not modify the initial object."
   ]
  }
 ],
 "metadata": {
  "kernelspec": {
   "display_name": "Python 3 (ipykernel)",
   "language": "python",
   "name": "python3"
  },
  "language_info": {
   "codemirror_mode": {
    "name": "ipython",
    "version": 3
   },
   "file_extension": ".py",
   "mimetype": "text/x-python",
   "name": "python",
   "nbconvert_exporter": "python",
   "pygments_lexer": "ipython3",
   "version": "3.9.13"
  }
 },
 "nbformat": 4,
 "nbformat_minor": 5
}
