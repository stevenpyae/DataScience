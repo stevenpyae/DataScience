{
 "cells": [
  {
   "cell_type": "markdown",
   "id": "3c74115b-85be-4a0f-b6a4-cd1996c916a1",
   "metadata": {},
   "source": [
    "Lists are ordered objects"
   ]
  },
  {
   "cell_type": "code",
   "execution_count": 2,
   "id": "74116585-8bb0-4e5e-bf9b-c71bce933ef4",
   "metadata": {},
   "outputs": [
    {
     "name": "stdout",
     "output_type": "stream",
     "text": [
      "['Marion Weaver', 'Alberto Mendoza', 'Katharine Tyler', 'Isaac Steele']\n"
     ]
    }
   ],
   "source": [
    "customerName = ['Marion Weaver', 'Alberto Mendoza', 'Katharine Tyler', 'Isaac Steele']\n",
    "print(customerName)\n"
   ]
  },
  {
   "cell_type": "code",
   "execution_count": 4,
   "id": "18fe197d-0383-4ae9-bd46-1f45f71abbef",
   "metadata": {},
   "outputs": [],
   "source": [
    "# assign the value 'Marianne Weaver' to the first name in our list\n",
    "# it is index 0, because indices start at 0 in python!\n",
    "customerName[0] = 'Marianne Weaver'"
   ]
  },
  {
   "cell_type": "code",
   "execution_count": 5,
   "id": "20b33476-23e7-48d3-814f-17fd60e93918",
   "metadata": {},
   "outputs": [
    {
     "name": "stdout",
     "output_type": "stream",
     "text": [
      "Isaac Steele\n",
      "['Alberto Mendoza', 'Katharine Tyler']\n",
      "['Marianne Weaver', 'Alberto Mendoza']\n"
     ]
    }
   ],
   "source": [
    "# -1 means last item\n",
    "# print the last item\n",
    "print(customerName[-1])\n",
    "\n",
    "# access the second item to the 3rd\n",
    "print(customerName[1:3])\n",
    "\n",
    "# access all items from the beginning to the second\n",
    "print(customerName[:2])\n"
   ]
  },
  {
   "cell_type": "code",
   "execution_count": 6,
   "id": "9c03afca-0101-404c-895d-a6dacd9265f0",
   "metadata": {},
   "outputs": [],
   "source": [
    "amountAccount = [10000, 150, 300, 1800.74]"
   ]
  },
  {
   "cell_type": "code",
   "execution_count": 7,
   "id": "e66f7469-5be2-4b05-b1f5-c3a5fd139b85",
   "metadata": {},
   "outputs": [
    {
     "name": "stdout",
     "output_type": "stream",
     "text": [
      "['another list', 1]\n"
     ]
    }
   ],
   "source": [
    "strangeList = [4, 10.2, 'Marion Weaver', ['another list', 1]]\n",
    "\n",
    "# print the 4th item of the list\n",
    "print(strangeList[3])"
   ]
  },
  {
   "cell_type": "code",
   "execution_count": 8,
   "id": "f72fc4a6-3ad2-4a5a-92bf-7a090c27adee",
   "metadata": {},
   "outputs": [
    {
     "name": "stdout",
     "output_type": "stream",
     "text": [
      "['another list', 1]\n"
     ]
    }
   ],
   "source": [
    "strangeList = [4, 10.2, 'Marion Weaver', ['another list', 1]]\n",
    "\n",
    "# print the 4th item of the list\n",
    "print(strangeList[3])"
   ]
  },
  {
   "cell_type": "markdown",
   "id": "2d7ad845-1668-48ac-bf56-ee3d31f34881",
   "metadata": {},
   "source": [
    "### Exercise 1"
   ]
  },
  {
   "cell_type": "markdown",
   "id": "9ddebb87-5b9a-4930-b675-227af1df3f61",
   "metadata": {},
   "source": [
    "Declare a colors list containing five items: red, yellow, orange, green, and blue."
   ]
  },
  {
   "cell_type": "code",
   "execution_count": 9,
   "id": "08e7a657-fb4b-454c-88ac-f8b7c347904a",
   "metadata": {},
   "outputs": [
    {
     "name": "stdout",
     "output_type": "stream",
     "text": [
      "red\n",
      "yellow\n",
      "orange\n",
      "emerald\n",
      "blue\n"
     ]
    }
   ],
   "source": [
    "colors = ['red', 'yellow', 'orange', 'green', 'blue']\n",
    "\n",
    "#replace green with emerald \n",
    "\n",
    "colors[colors.index('green')] = 'emerald'\n",
    "\n",
    "for color in colors :\n",
    "    print(color)"
   ]
  },
  {
   "cell_type": "markdown",
   "id": "4841366b-6f42-4892-b4f6-f345268197a6",
   "metadata": {},
   "source": [
    "### **List Methods**"
   ]
  },
  {
   "cell_type": "code",
   "execution_count": 11,
   "id": "1281acf6-e770-454f-9452-d8ea46a48212",
   "metadata": {},
   "outputs": [
    {
     "name": "stdout",
     "output_type": "stream",
     "text": [
      "[7, 5]\n"
     ]
    }
   ],
   "source": [
    "#Add \n",
    "list = []\n",
    "list.append(7)\n",
    "list.append(5)\n",
    "print(list) # => [7, 5]"
   ]
  },
  {
   "cell_type": "markdown",
   "id": "52d9169c-85f0-4324-94f7-5a1e005e7606",
   "metadata": {},
   "source": [
    "**insert**  to insert a new item at a specific position. For example,   list.insert(1, 12)  will insert the integer 12 at index 1, moving the old item 1 to index 2 and so on.\n",
    "\n",
    "**extend** :  similar to append, but with another list. This allows you to concatenate several lists together.\n",
    "\n",
    "**remove** : searches for the given item in the list and deletes the first occurrence. For example, if you want to delete 5 from your list, you can use :  list.remove(5) .\n",
    "\n",
    "**index** : this method lets you find the index of the first occurrence of an item to be searched for in our list;\n",
    "\n",
    "Keyword  **del**  to delete an item according to its index."
   ]
  },
  {
   "cell_type": "code",
   "execution_count": 13,
   "id": "8e862f6b-551f-4138-b723-fe765c816331",
   "metadata": {},
   "outputs": [],
   "source": [
    "list = []\n",
    "list.append(7) # -> [7]\n",
    "list.append(5) # -> [7, 5]\n",
    "\n",
    "list.insert(1,12) # [7, 12, 5]\n",
    "\n",
    "\n",
    "list[0] = 4 # -> [4, 12, 5]\n",
    "list.remove(12) # [4, 5]\n",
    "list.index(5) # prints 1\n",
    "list.extend([1, 2, 3]) # [4, 5, 1, 2, 3]\n",
    "del list[3] # [4, 5, 1, 3]"
   ]
  },
  {
   "cell_type": "code",
   "execution_count": 14,
   "id": "508890fb-c682-4a67-96ac-5c6dd2c1090b",
   "metadata": {},
   "outputs": [
    {
     "data": {
      "text/plain": [
       "3"
      ]
     },
     "execution_count": 14,
     "metadata": {},
     "output_type": "execute_result"
    }
   ],
   "source": [
    "list = [1, 2, 3]\n",
    "len(list) # will print 3"
   ]
  },
  {
   "cell_type": "markdown",
   "id": "8a4a685e-7b32-48a1-a552-9a05da18787b",
   "metadata": {},
   "source": [
    "### Exercise 2"
   ]
  },
  {
   "cell_type": "code",
   "execution_count": 21,
   "id": "fcf682b9-1548-4f86-8ed5-b10f26518045",
   "metadata": {},
   "outputs": [
    {
     "name": "stdout",
     "output_type": "stream",
     "text": [
      "3\n",
      "John\n",
      "Mary\n"
     ]
    }
   ],
   "source": [
    "guests = []\n",
    "\n",
    "#Add 3 guests: Joey, Martin, and Mary\n",
    "\n",
    "guests.append('Joey')\n",
    "guests.append('Martin')\n",
    "guests.append('Mary')\n",
    "\n",
    "#Size of List\n",
    "print(len(guests))\n",
    "\n",
    "#Replace Martin with John\n",
    "guests[guests.index('Martin')] = 'John'\n",
    "\n",
    "#remove Joey\n",
    "guests.remove('Joey')\n",
    "\n",
    "#Print contents \n",
    "for guest in guests:\n",
    "    print(guest)"
   ]
  },
  {
   "cell_type": "markdown",
   "id": "48c5914c-bc95-449e-a9c6-f82b07b035d3",
   "metadata": {},
   "source": [
    "# Dictionaries \n",
    "\n",
    "### list of items orgainzed via system of keys\n",
    "### key-value pairs (Unique Keys)\n"
   ]
  },
  {
   "cell_type": "code",
   "execution_count": 22,
   "id": "102c7a0a-c3d7-4f4a-a08f-452a76cb9d87",
   "metadata": {},
   "outputs": [
    {
     "name": "stdout",
     "output_type": "stream",
     "text": [
      "150\n"
     ]
    }
   ],
   "source": [
    "accounts = {'Marion Weaver': 10000, 'Alberto Mendoza': 150, 'Katharine Tyler': 300, 'Isaac Steele': 1800.74}\n",
    "print(accounts['Alberto Mendoza']) # -> 150"
   ]
  },
  {
   "cell_type": "markdown",
   "id": "c4af9279-a1a3-4a6f-a79a-2d46ec292fc1",
   "metadata": {},
   "source": [
    "#### Dictionary manipulation\n",
    "#### Access\n",
    "#### Add\n",
    "#### Delete by **pop()**"
   ]
  },
  {
   "cell_type": "code",
   "execution_count": 23,
   "id": "319ffb58-7b02-482b-ac97-8047eff119e1",
   "metadata": {},
   "outputs": [
    {
     "name": "stdout",
     "output_type": "stream",
     "text": [
      "1000\n"
     ]
    }
   ],
   "source": [
    "accounts['Marion Weaver'] -= 2000 # I subtract 2000 from David's account\n",
    "accounts['Kristian Roach'] = 1000 # I add a new individual in my dictionary\n",
    "print(accounts['Kristian Roach']) # I print the value of Kristian's account"
   ]
  },
  {
   "cell_type": "code",
   "execution_count": 30,
   "id": "219132ff-57f0-474b-9d32-734cf1a558e7",
   "metadata": {},
   "outputs": [
    {
     "name": "stdout",
     "output_type": "stream",
     "text": [
      "{'Marion Weaver': 8000, 'Katharine Tyler': 300, 'Isaac Steele': 1800.74, 'Kristian Roach': 1000}\n"
     ]
    }
   ],
   "source": [
    "print(accounts)"
   ]
  },
  {
   "cell_type": "code",
   "execution_count": 31,
   "id": "67436932-0892-4062-8020-d8bf33d50104",
   "metadata": {},
   "outputs": [
    {
     "data": {
      "text/plain": [
       "4"
      ]
     },
     "execution_count": 31,
     "metadata": {},
     "output_type": "execute_result"
    }
   ],
   "source": [
    "len(accounts) # -> 4"
   ]
  },
  {
   "cell_type": "raw",
   "id": "1d18a9c0-c4b0-4f35-a099-34fbed58a017",
   "metadata": {},
   "source": [
    "print(accounts)"
   ]
  },
  {
   "cell_type": "markdown",
   "id": "44a207bc-fc14-4e90-aaf3-1caf753e2a96",
   "metadata": {},
   "source": [
    "# Immutable Tuples"
   ]
  },
  {
   "cell_type": "markdown",
   "id": "712e1abf-7c8b-489d-8633-cf8ed9eb1578",
   "metadata": {},
   "source": [
    "Ordered objects\n",
    "Once tuples are declared, they cannot bee modified. Immutable"
   ]
  },
  {
   "cell_type": "code",
   "execution_count": 32,
   "id": "2d313a2b-7f07-46ea-ab20-02d582b1d4a4",
   "metadata": {},
   "outputs": [],
   "source": [
    "my_tuple = (1, 2, 3, 'a', 'b')"
   ]
  },
  {
   "cell_type": "code",
   "execution_count": 33,
   "id": "e35e7d7f-0f9b-4fe3-a12a-9b7f6760ac50",
   "metadata": {},
   "outputs": [
    {
     "name": "stdout",
     "output_type": "stream",
     "text": [
      "2\n",
      "b\n"
     ]
    }
   ],
   "source": [
    "print(my_tuple[1]) # -> 2\n",
    "print(my_tuple[4]) # -> 'b'"
   ]
  },
  {
   "cell_type": "code",
   "execution_count": 34,
   "id": "8f5c46d6-c89f-4b8b-b8af-430d517e9a4e",
   "metadata": {},
   "outputs": [
    {
     "name": "stdout",
     "output_type": "stream",
     "text": [
      "1\n",
      "apple\n"
     ]
    }
   ],
   "source": [
    "a, b = (1, 'apple')\n",
    "print(a) # -> 1\n",
    "print(b) # -> 'apple'"
   ]
  }
 ],
 "metadata": {
  "kernelspec": {
   "display_name": "Python 3 (ipykernel)",
   "language": "python",
   "name": "python3"
  },
  "language_info": {
   "codemirror_mode": {
    "name": "ipython",
    "version": 3
   },
   "file_extension": ".py",
   "mimetype": "text/x-python",
   "name": "python",
   "nbconvert_exporter": "python",
   "pygments_lexer": "ipython3",
   "version": "3.9.13"
  }
 },
 "nbformat": 4,
 "nbformat_minor": 5
}
