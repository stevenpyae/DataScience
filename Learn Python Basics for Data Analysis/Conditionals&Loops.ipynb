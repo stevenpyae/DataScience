{
 "cells": [
  {
   "cell_type": "code",
   "execution_count": 1,
   "id": "0a600bdd-401b-4ff3-84a8-d90e75b84552",
   "metadata": {},
   "outputs": [
    {
     "name": "stdin",
     "output_type": "stream",
     "text": [
      "What is your name, dear stranger? NeeSan\n"
     ]
    },
    {
     "name": "stdout",
     "output_type": "stream",
     "text": [
      "Hello NeeSan !\n"
     ]
    }
   ],
   "source": [
    "name = input( 'What is your name, dear stranger?')\n",
    "\n",
    "if len(name) > 0:\n",
    "    print(\"Hello\", name, \"!\")\n",
    "else:\n",
    "    print(\"Hello, world!\")"
   ]
  },
  {
   "cell_type": "markdown",
   "id": "a73db0b2-3236-44e7-9591-a07353d6cade",
   "metadata": {},
   "source": [
    "Use **Booleans** True or False"
   ]
  },
  {
   "cell_type": "code",
   "execution_count": 2,
   "id": "d1e385cb-6ba7-4534-9ff6-020c0fcc9157",
   "metadata": {},
   "outputs": [],
   "source": [
    "thisCourseIsGreat = True\n",
    "itsAuthorIsVeryHumble = False"
   ]
  },
  {
   "cell_type": "code",
   "execution_count": 3,
   "id": "5ff6ed6c-be43-409b-b92a-7858af6bcad7",
   "metadata": {},
   "outputs": [
    {
     "data": {
      "text/plain": [
       "True"
      ]
     },
     "execution_count": 3,
     "metadata": {},
     "output_type": "execute_result"
    }
   ],
   "source": [
    "weather = \"The weather is great!\"\n",
    "weather.startswith(\"The weather\") # -> True"
   ]
  },
  {
   "cell_type": "markdown",
   "id": "e3f4a2ba-2295-46a0-889d-561f51cef8a5",
   "metadata": {},
   "source": [
    "==  equal to (two values are exactly the same)\n",
    "\n",
    "!=  different from\n",
    "\n",
    "<  less than\n",
    "\n",
    "<=  less than or equal to\n",
    "\n",
    "->  greater than\n",
    "\n",
    "->=  greater than or equal to"
   ]
  },
  {
   "cell_type": "code",
   "execution_count": 4,
   "id": "ea5ddfb4-f511-4894-99a3-ff60a752189e",
   "metadata": {},
   "outputs": [
    {
     "data": {
      "text/plain": [
       "True"
      ]
     },
     "execution_count": 4,
     "metadata": {},
     "output_type": "execute_result"
    }
   ],
   "source": [
    "2 == 2 # -> True\n",
    "2 == 3 # -> False\n",
    "4 != 4 # -> False\n",
    "4!= 5 # -> True\n",
    "1 < 2 # -> True\n",
    "1 < 1 # -> False\n",
    "1 <= 1 # -> True\n",
    "3 > 4 # -> False\n",
    "5 > 4 # -> True\n",
    "5 >= 4 # -> True"
   ]
  },
  {
   "cell_type": "markdown",
   "id": "0dcb25d9-36f7-4d19-aa3d-643ae65861c5",
   "metadata": {},
   "source": [
    "Logical Operators **AND** **OR**"
   ]
  },
  {
   "cell_type": "code",
   "execution_count": 5,
   "id": "745cff41-be24-4cbe-8e19-759c6d71953a",
   "metadata": {},
   "outputs": [
    {
     "data": {
      "text/plain": [
       "True"
      ]
     },
     "execution_count": 5,
     "metadata": {},
     "output_type": "execute_result"
    }
   ],
   "source": [
    "True and True # True\n",
    "True and False # False\n",
    "False and False # False\n",
    "True or False # True\n",
    "True or True # True\n",
    "False or False # False\n",
    "not(True) # False\n",
    "not(False) # True"
   ]
  },
  {
   "cell_type": "code",
   "execution_count": 6,
   "id": "7a5b9d98-c04b-43c2-b08e-19ba16562910",
   "metadata": {},
   "outputs": [
    {
     "data": {
      "text/plain": [
       "False"
      ]
     },
     "execution_count": 6,
     "metadata": {},
     "output_type": "execute_result"
    }
   ],
   "source": [
    "True and True and True # True\n",
    "True and True and False # False\n",
    "True or False or False # True\n",
    "False or False or False # False"
   ]
  },
  {
   "cell_type": "code",
   "execution_count": 7,
   "id": "c6fb72eb-6f08-479c-9464-54a4230a5997",
   "metadata": {},
   "outputs": [
    {
     "data": {
      "text/plain": [
       "True"
      ]
     },
     "execution_count": 7,
     "metadata": {},
     "output_type": "execute_result"
    }
   ],
   "source": [
    "False or True and True # True\n",
    "not(False) and True or False # True"
   ]
  },
  {
   "cell_type": "markdown",
   "id": "6ab8114c-acf8-434d-bbcb-edfe1c6458d7",
   "metadata": {},
   "source": [
    "**IN** Operator"
   ]
  },
  {
   "cell_type": "code",
   "execution_count": 8,
   "id": "5636c5c0-d698-47ea-8bef-0d3804e2d713",
   "metadata": {},
   "outputs": [
    {
     "data": {
      "text/plain": [
       "False"
      ]
     },
     "execution_count": 8,
     "metadata": {},
     "output_type": "execute_result"
    }
   ],
   "source": [
    "myList = [4, 2, 3, 2, 10]\n",
    "myStringList = [\"a\", \"b\", \"c\", \"d\"]\n",
    "myString = \"The weather is really good today!\"\n",
    "\n",
    "4 in myList # True\n",
    "0 in myList # False\n",
    "0 in myStringList # False\n",
    "\"c\" in myStringList # True\n",
    "\"e\" in myStringList # False\n",
    "\"weather\" in myString # True\n",
    "\"really\" in myString # True\n",
    "\"rain?\" in myString # False"
   ]
  },
  {
   "cell_type": "markdown",
   "id": "26d4ca9c-ac60-49ae-ac1d-2633a1a0bb27",
   "metadata": {},
   "source": [
    "Chain of Conditions"
   ]
  },
  {
   "cell_type": "code",
   "execution_count": 10,
   "id": "bf57c7d1-bf60-4168-945b-a7fceb94ae90",
   "metadata": {},
   "outputs": [
    {
     "name": "stdin",
     "output_type": "stream",
     "text": [
      "What is your account balance? 199\n"
     ]
    },
    {
     "name": "stdout",
     "output_type": "stream",
     "text": [
      "Loan in process of validation: under study\n"
     ]
    }
   ],
   "source": [
    "account = input(\"What is your account balance?\")\n",
    "account = int(account) # transform the answer into an integer\n",
    "\n",
    "if account >= 10000:\n",
    "    print(\"Loan granted!\")\n",
    "elif account >= 100 and account < 10000:\n",
    "    print(\"Loan in process of validation: under study\")\n",
    "else:\n",
    "    print(\"Loan refused\")"
   ]
  },
  {
   "cell_type": "markdown",
   "id": "4533bbe4-ff2b-4ef4-9ee5-602b67a341e9",
   "metadata": {},
   "source": [
    "#### Exercise"
   ]
  },
  {
   "cell_type": "code",
   "execution_count": 11,
   "id": "aa4bcdb6-80c6-406d-8c04-3c63c79cd61f",
   "metadata": {},
   "outputs": [
    {
     "name": "stdout",
     "output_type": "stream",
     "text": [
      "c is between a and b\n"
     ]
    }
   ],
   "source": [
    "a = 5\n",
    "b = 10\n",
    "c = 7\n",
    "\n",
    "if c > a and c < b:\n",
    "    print(\"c is between a and b\")\n",
    "elif c < a:\n",
    "    print(\"c is smaller than a\")\n",
    "else:\n",
    "    print(\"c is greater than b\")"
   ]
  },
  {
   "cell_type": "markdown",
   "id": "0ad557b3-fcbe-4c36-ac56-1e0956ac83ca",
   "metadata": {},
   "source": [
    "# Loops"
   ]
  },
  {
   "cell_type": "code",
   "execution_count": 12,
   "id": "38ad0408-b05b-4266-9425-589cac113428",
   "metadata": {},
   "outputs": [
    {
     "name": "stdout",
     "output_type": "stream",
     "text": [
      "7\n",
      "2\n",
      "4\n",
      "10\n"
     ]
    }
   ],
   "source": [
    "myList = [7,2,4,10]\n",
    "\n",
    "for elt in myList:\n",
    "    print(elt)"
   ]
  },
  {
   "cell_type": "code",
   "execution_count": 13,
   "id": "9769be9e-8999-4718-8320-7a9704195925",
   "metadata": {},
   "outputs": [
    {
     "name": "stdout",
     "output_type": "stream",
     "text": [
      "I\n",
      "t\n",
      "e\n",
      "m\n",
      "s\n"
     ]
    }
   ],
   "source": [
    "myString = \"Items\"\n",
    "\n",
    "for elt in myString:\n",
    "    print(elt)"
   ]
  },
  {
   "cell_type": "code",
   "execution_count": null,
   "id": "a092ba34-2941-40f4-82e8-84c051318a47",
   "metadata": {},
   "outputs": [],
   "source": []
  }
 ],
 "metadata": {
  "kernelspec": {
   "display_name": "Python 3 (ipykernel)",
   "language": "python",
   "name": "python3"
  },
  "language_info": {
   "codemirror_mode": {
    "name": "ipython",
    "version": 3
   },
   "file_extension": ".py",
   "mimetype": "text/x-python",
   "name": "python",
   "nbconvert_exporter": "python",
   "pygments_lexer": "ipython3",
   "version": "3.9.13"
  }
 },
 "nbformat": 4,
 "nbformat_minor": 5
}
