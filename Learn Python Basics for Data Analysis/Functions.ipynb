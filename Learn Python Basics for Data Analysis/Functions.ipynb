{
 "cells": [
  {
   "cell_type": "code",
   "execution_count": 1,
   "id": "7fd01fc5-362d-4d3b-adb8-02523bd628be",
   "metadata": {},
   "outputs": [
    {
     "name": "stdout",
     "output_type": "stream",
     "text": [
      "5\n",
      "<class 'str'>\n",
      "16\n",
      "100\n"
     ]
    }
   ],
   "source": [
    "a = \"apple\"\n",
    "print(len(a))\n",
    "print(type(a))\n",
    "print(pow(4,2))\n",
    "print(abs(100))\n"
   ]
  },
  {
   "cell_type": "markdown",
   "id": "87f31940-d8f6-485c-b601-374f42c602f0",
   "metadata": {},
   "source": [
    "### Write your own **Function** #be careful of indentation"
   ]
  },
  {
   "cell_type": "code",
   "execution_count": 4,
   "id": "74a9e4d0-b237-4c0e-a7d1-398b75455301",
   "metadata": {},
   "outputs": [
    {
     "name": "stdout",
     "output_type": "stream",
     "text": [
      "13\n"
     ]
    }
   ],
   "source": [
    "def printPerimeter():\n",
    "    dimension1 = 6\n",
    "    dimension2 = 4\n",
    "    dimension3 = 3\n",
    "    perimeter = dimension1 + dimension2 + dimension3\n",
    "    print(perimeter)\n",
    "\n",
    "printPerimeter() # => 13"
   ]
  },
  {
   "cell_type": "code",
   "execution_count": 5,
   "id": "31544e6b-ddd6-4cad-9926-e9659641412b",
   "metadata": {},
   "outputs": [
    {
     "name": "stdout",
     "output_type": "stream",
     "text": [
      "25\n",
      "7.5\n"
     ]
    }
   ],
   "source": [
    "def printPerimeter(dimension1, dimension2, dimension3):\n",
    "    perimeter = dimension1 + dimension2 + dimension3\n",
    "    print(perimeter)\n",
    "    \n",
    "\n",
    "printPerimeter(10, 11, 4) # => 25\n",
    "printPerimeter(2, 2, 3.5) # => 7.5"
   ]
  },
  {
   "cell_type": "code",
   "execution_count": 6,
   "id": "cee48be1-e4d9-41bf-8e49-46577682f120",
   "metadata": {},
   "outputs": [
    {
     "name": "stdout",
     "output_type": "stream",
     "text": [
      "The perimeter of my first triangle is 13 and that of my second is 24\n"
     ]
    }
   ],
   "source": [
    "def calculatePerimeter(dimension1, dimension2, dimension3):\n",
    "    perimeter = dimension1 + dimension2 + dimension3\n",
    "    return perimeter\n",
    "\n",
    "perimeter1 = calculatePerimeter(6, 4, 3)\n",
    "perimeter2 = calculatePerimeter(10, 3, 11)\n",
    "\n",
    "print(\"The perimeter of my first triangle is\", perimeter1, \"and that of my second is\", perimeter2)"
   ]
  },
  {
   "cell_type": "markdown",
   "id": "5f563a0f-5fc2-4cc2-8c84-b3e0d623d821",
   "metadata": {},
   "source": [
    "## **help** function for more info"
   ]
  },
  {
   "cell_type": "code",
   "execution_count": 7,
   "id": "f06dbe30-2bb2-4b66-9fb4-5f728c197f6a",
   "metadata": {},
   "outputs": [
    {
     "name": "stdout",
     "output_type": "stream",
     "text": [
      "Help on built-in function pow in module builtins:\n",
      "\n",
      "pow(base, exp, mod=None)\n",
      "    Equivalent to base**exp with 2 arguments or base**exp % mod with 3 arguments\n",
      "    \n",
      "    Some types, such as ints, are able to use a more efficient algorithm when\n",
      "    invoked using the three argument form.\n",
      "\n"
     ]
    }
   ],
   "source": [
    "help(pow)"
   ]
  },
  {
   "cell_type": "code",
   "execution_count": 11,
   "id": "a1c4e73d-22b5-4f8c-84ba-3fe4b172e6cc",
   "metadata": {},
   "outputs": [
    {
     "name": "stdout",
     "output_type": "stream",
     "text": [
      "Help on function calculatePerimeter in module __main__:\n",
      "\n",
      "calculatePerimeter(dimension1, dimension2, dimension3)\n",
      "\n",
      "Help on built-in function len in module builtins:\n",
      "\n",
      "len(obj, /)\n",
      "    Return the number of items in a container.\n",
      "\n",
      "Help on built-in function abs in module builtins:\n",
      "\n",
      "abs(x, /)\n",
      "    Return the absolute value of the argument.\n",
      "\n"
     ]
    }
   ],
   "source": [
    "help(calculatePerimeter)\n",
    "help(len)\n",
    "help(abs)"
   ]
  }
 ],
 "metadata": {
  "kernelspec": {
   "display_name": "Python 3 (ipykernel)",
   "language": "python",
   "name": "python3"
  },
  "language_info": {
   "codemirror_mode": {
    "name": "ipython",
    "version": 3
   },
   "file_extension": ".py",
   "mimetype": "text/x-python",
   "name": "python",
   "nbconvert_exporter": "python",
   "pygments_lexer": "ipython3",
   "version": "3.9.13"
  }
 },
 "nbformat": 4,
 "nbformat_minor": 5
}
