{
 "cells": [
  {
   "cell_type": "code",
   "execution_count": 1,
   "id": "21135c90",
   "metadata": {},
   "outputs": [
    {
     "name": "stdout",
     "output_type": "stream",
     "text": [
      "Hello World\n"
     ]
    }
   ],
   "source": [
    "print(\"Hello World\")"
   ]
  },
  {
   "cell_type": "markdown",
   "id": "abc70455",
   "metadata": {},
   "source": [
    "# A level 1 title \n",
    "Here is some text to introduce a markdown \n",
    "## level 2 title \n",
    "**This** is very important \n",
    "## other level 2 title \n",
    "But *this is* as well!"
   ]
  },
  {
   "cell_type": "code",
   "execution_count": 3,
   "id": "1930f630",
   "metadata": {},
   "outputs": [],
   "source": [
    "checkingAccount = 500\n",
    "savingsAccount = 1000"
   ]
  },
  {
   "cell_type": "code",
   "execution_count": 4,
   "id": "fad7bada",
   "metadata": {},
   "outputs": [],
   "source": [
    "# add 100 to our savings (Yeah!)\n",
    "savingsAccount = savingsAccount + 100\n",
    "\n",
    "# remove 50 from our checkingaccount (Sniff)\n",
    "checkingAccount = checkingAccount - 50\n",
    "\n",
    "# calculate the number of days to save to reach 5000\n",
    "numberDaysSave = (5000 - checkingAccount) / 500\n",
    "\n",
    "# update our checkingaccount (again) after the daily gains/losses\n",
    "checkingAccount = checkingAccount + (30 - 10) * 7"
   ]
  },
  {
   "cell_type": "code",
   "execution_count": 6,
   "id": "c47ed289",
   "metadata": {},
   "outputs": [
    {
     "name": "stdout",
     "output_type": "stream",
     "text": [
      "100\n",
      "729\n",
      "2\n"
     ]
    }
   ],
   "source": [
    "print(savingsAccount % 500) # -> 100\n",
    "# 1100 = 500 * 2 + 100, so 1100 % 500 = remainder = 100\n",
    "\n",
    "print(9 ** 3) # -> 729, 9*9*9 = 729\n",
    "\n",
    "print(savingsAccount // 500) # -> 2\n",
    "# 1100 = 500 * 2 + 100, so 1100 // 500 = integer division result = 2*"
   ]
  },
  {
   "cell_type": "code",
   "execution_count": 8,
   "id": "87b0cb7c",
   "metadata": {},
   "outputs": [
    {
     "name": "stdout",
     "output_type": "stream",
     "text": [
      "Your account balance was 10000 €\n",
      "You earned 75.0 € this year\n"
     ]
    }
   ],
   "source": [
    "# Exercise 1 \n",
    "savingsAccount = 10000\n",
    "rate = 0.75\n",
    "interest = savingsAccount * (rate/100)\n",
    "print(\"Your account balance was\", savingsAccount, \"€\\nYou earned\", interest, \"€ this year\")"
   ]
  },
  {
   "cell_type": "code",
   "execution_count": 9,
   "id": "43e1aae2",
   "metadata": {},
   "outputs": [
    {
     "name": "stdout",
     "output_type": "stream",
     "text": [
      "Your savings are:  3500\n"
     ]
    }
   ],
   "source": [
    "# Exercise 2\n",
    "account = 200\n",
    "savings = 3000\n",
    "    \n",
    "# TO DO: modify the following line with the simplified operator +=\n",
    "savings += 500\n",
    "\n",
    "print(\"Your savings are: \", savings)"
   ]
  },
  {
   "cell_type": "code",
   "execution_count": 10,
   "id": "86901208",
   "metadata": {},
   "outputs": [],
   "source": [
    "# Other Variable Types\n",
    "firstName = \"Benjamin\"\n",
    "interestRate = 1.5\n",
    "address = \"15 19 Bloomsbury Way, Holborn, London, WC1A 2TH\"\n",
    "\n",
    "address = \"15 19 Bloomsbury Way, Holborn, London, WC1A 2TH\"\n",
    "# equivalent to\n",
    "address = \"15 19 Bloomsbury Way, Holborn, London, WC1A 2TH\""
   ]
  },
  {
   "cell_type": "code",
   "execution_count": 3,
   "id": "a378df75",
   "metadata": {},
   "outputs": [
    {
     "name": "stdout",
     "output_type": "stream",
     "text": [
      "27 5\n"
     ]
    },
    {
     "data": {
      "text/plain": [
       "'This is a test'"
      ]
     },
     "execution_count": 3,
     "metadata": {},
     "output_type": "execute_result"
    }
   ],
   "source": [
    "x = 10\n",
    "x += 12\n",
    "y = int(x/4)\n",
    "x = x + y\n",
    "print(x,y)\n",
    "\n",
    "a = \"This is A TEST\"\n",
    "a.capitalize()"
   ]
  },
  {
   "cell_type": "code",
   "execution_count": 4,
   "id": "76735279-b3c3-4810-b352-fbb63d8f94c0",
   "metadata": {},
   "outputs": [
    {
     "name": "stdout",
     "output_type": "stream",
     "text": [
      "1 0 16 1\n"
     ]
    }
   ],
   "source": [
    "a = 4\n",
    "\n",
    "def polynomial(a, b, c, x):\n",
    "    return a*x**2 + b*x + c\n",
    "\n",
    "b = a\n",
    "b *= a\n",
    "c = 1\n",
    "result = polynomial(a, b, c, 0)\n",
    "a += 3\n",
    "a = 0\n",
    "print(result, a, b, c)\n"
   ]
  }
 ],
 "metadata": {
  "kernelspec": {
   "display_name": "Python 3 (ipykernel)",
   "language": "python",
   "name": "python3"
  },
  "language_info": {
   "codemirror_mode": {
    "name": "ipython",
    "version": 3
   },
   "file_extension": ".py",
   "mimetype": "text/x-python",
   "name": "python",
   "nbconvert_exporter": "python",
   "pygments_lexer": "ipython3",
   "version": "3.9.13"
  }
 },
 "nbformat": 4,
 "nbformat_minor": 5
}
